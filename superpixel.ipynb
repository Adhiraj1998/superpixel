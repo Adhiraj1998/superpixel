{
 "cells": [
  {
   "cell_type": "code",
   "execution_count": 26,
   "metadata": {},
   "outputs": [],
   "source": [
    "import numpy as np\n",
    "import cv2\n",
    "import matplotlib.pyplot as plt\n",
    "import os\n",
    "from skimage.segmentation import slic\n",
    "from skimage.segmentation import mark_boundaries\n",
    "from skimage.util import img_as_float\n",
    "from imageio import imsave"
   ]
  },
  {
   "cell_type": "code",
   "execution_count": 5,
   "metadata": {},
   "outputs": [],
   "source": [
    "def crop(img):\n",
    "    mask = img>0\n",
    "    coords = np.argwhere(mask)\n",
    "    c0 = coords.min(axis=0)\n",
    "    c1 = coords.max(axis=0) + 1 \n",
    "    cropped = img[c0[0] : c1[0], c0[1]:c1[1]]\n",
    "    return cropped"
   ]
  },
  {
   "cell_type": "code",
   "execution_count": 30,
   "metadata": {},
   "outputs": [],
   "source": [
    "path = \"D:/datasets/clustering/images/\"\n",
    "seg_path = 'D:/datasets/clustering/segments/'\n",
    "crop_path = 'D:/datasets/clustering/cropped/'"
   ]
  },
  {
   "cell_type": "code",
   "execution_count": 40,
   "metadata": {},
   "outputs": [
    {
     "name": "stderr",
     "output_type": "stream",
     "text": [
      "D:\\Anaconda\\lib\\site-packages\\ipykernel_launcher.py:4: FutureWarning: skimage.measure.label's indexing starts from 0. In future version it will start from 1. To disable this warning, explicitely set the `start_label` parameter to 1.\n",
      "  after removing the cwd from sys.path.\n"
     ]
    }
   ],
   "source": [
    "for i in os.listdir(path):\n",
    "    \n",
    "    image = cv2.imread(os.path.join(path, i))\n",
    "    segments = slic(img_as_float(image), n_segments = 10, sigma = 100)\n",
    "    for (j, seg) in enumerate(np.unique(segments)):\n",
    "        directory = seg_path+i[6:9]+'/'\n",
    "        try:\n",
    "            os.makedirs(directory, exist_ok=True)\n",
    "        except OSError as exc:\n",
    "            if exc.errno == errno.EEXIST:\n",
    "                pass\n",
    "        #print (\"[x] inspecting segment \", j)\n",
    "        mask = np.zeros(image.shape[:2], dtype = \"uint8\")\n",
    "        mask[segments == seg] = 255\n",
    "\n",
    "        separate = cv2.bitwise_and(image, image, mask = mask)\n",
    "        name = directory+i[6:9]+\"_\"+str(j)\n",
    "        imsave(\"%s.jpg\" % name, separate, format=\"jpg\")\n",
    "        \n",
    "        cropped = crop(separate)\n",
    "        crop_dir = crop_path+i[6:9]+'/'\n",
    "        try:\n",
    "            os.makedirs(crop_dir, exist_ok=True)\n",
    "        except OSError as exc:\n",
    "            if exc.errno == errno.EEXIST:\n",
    "                pass\n",
    "        name_c = crop_dir+ i[6:9]+\"_\"+str(j)\n",
    "        imsave(\"%s.jpg\" % name_c, cropped, format=\"jpg\")"
   ]
  }
 ],
 "metadata": {
  "kernelspec": {
   "display_name": "Python 3",
   "language": "python",
   "name": "python3"
  },
  "language_info": {
   "codemirror_mode": {
    "name": "ipython",
    "version": 3
   },
   "file_extension": ".py",
   "mimetype": "text/x-python",
   "name": "python",
   "nbconvert_exporter": "python",
   "pygments_lexer": "ipython3",
   "version": "3.7.6"
  }
 },
 "nbformat": 4,
 "nbformat_minor": 4
}
